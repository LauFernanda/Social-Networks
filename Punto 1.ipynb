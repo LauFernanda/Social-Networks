{
 "cells": [
  {
   "cell_type": "markdown",
   "metadata": {
    "hideCode": false,
    "hidePrompt": false
   },
   "source": [
    "#Red de  amistad\n",
    "#Descripción de la red"
   ]
  },
  {
   "cell_type": "code",
   "execution_count": 2,
   "metadata": {
    "hideCode": false,
    "hidePrompt": false
   },
   "outputs": [
    {
     "name": "stdout",
     "output_type": "stream",
     "text": [
      "Requirement already satisfied: python-louvain in /home/laufernanda/anaconda3/lib/python3.6/site-packages\n",
      "Requirement already satisfied: networkx<2.0.0 in /home/laufernanda/anaconda3/lib/python3.6/site-packages (from python-louvain)\n",
      "Requirement already satisfied: decorator>=3.4.0 in /home/laufernanda/anaconda3/lib/python3.6/site-packages (from networkx<2.0.0->python-louvain)\n"
     ]
    }
   ],
   "source": [
    "#Carga librerías importantes\n",
    "import networkx as nx\n",
    "import numpy as np\n",
    "import matplotlib.pyplot as plt\n",
    "import operator\n",
    "import pip\n",
    "import csv\n",
    "import pickle\n",
    "import operator\n",
    "import random as rd\n",
    "pip.main(['install','python-louvain'])\n",
    "import community\n",
    "from collections import Counter\n",
    "import itertools\n",
    "\n",
    "import matplotlib.pyplot as plt\n",
    "import numpy as np\n",
    "import scipy.stats as stats\n",
    "import pylab as pl\n",
    "from sklearn import metrics\n",
    "\n"
   ]
  },
  {
   "cell_type": "code",
   "execution_count": 11,
   "metadata": {
    "hideCode": false,
    "hidePrompt": false
   },
   "outputs": [
    {
     "name": "stdout",
     "output_type": "stream",
     "text": [
      "La red tiene  2209 nodos y  7987 arcos\n"
     ]
    }
   ],
   "source": [
    "#Create empty network\n",
    "\n",
    "g= nx.Graph()\n",
    "#read nodes\n",
    "nodes= csv.reader(open('./Nodos_Amigos.csv'))\n",
    "next(nodes,None)\n",
    "\n",
    "for row in nodes:\n",
    "    g.add_node(row[0])  \n",
    "    g.node[row[0]]['sexo']=row[1]\n",
    "    g.node[row[0]]['raza']=row[2]\n",
    "    g.node[row[0]]['grado']=row[3]\n",
    "    g.node[row[0]]['escuela']=row[4]\n",
    "    \n",
    "#read edges\n",
    "edges=csv.reader(open('./Arcos_Amigos.csv'))\n",
    "\n",
    "next(edges,None)\n",
    "\n",
    "for row in edges:\n",
    "    g.add_edge(row[0],row[1])\n",
    "    g.edge[row[0]][row[1]]['weight']=int(float(row[2]))\n",
    "    #print(g.edge[row[0]][row[1]]['weight'])\n",
    "\n",
    "print('La red tiene ',g.number_of_nodes(),'nodos y ',g.number_of_edges(),'arcos')\n"
   ]
  },
  {
   "cell_type": "code",
   "execution_count": 24,
   "metadata": {
    "hideCode": false,
    "hidePrompt": false
   },
   "outputs": [
    {
     "name": "stdout",
     "output_type": "stream",
     "text": [
      "El grado promedio de la red  es:  7.231326392032594\n",
      "El grado promedio ponderado de la red  es:  7.231326392032594\n",
      "La transitividad promedio simple en la red es: 0.18189446691554828\n",
      "La transitividad promedio ponderada en la red es: 0.08097589191429651\n",
      "El diámetro del subgrafo más conectado es: 11\n",
      "La densidad de la red es: 0.003275057242768385\n",
      "la red tiene 74 coumunidades\n",
      "la modularidad de la red es 0.7245955462242482\n"
     ]
    }
   ],
   "source": [
    "##############################GRADO PROMEDIO ###########################################################\n",
    "grado=g.degree()\n",
    "grado_promedio_simple= sum(grado.values())/g.number_of_nodes()\n",
    "print('El grado promedio de la red  es: ', grado_promedio_simple)\n",
    "\n",
    "grado_p=g.degree(weight='weight')\n",
    "grado_promedio_p= sum(grado.values())/g.number_of_nodes()\n",
    "print('El grado promedio ponderado de la red  es: ', grado_promedio_p)\n",
    "\n",
    "################################CLUSTERING PROMEDIO##########################################################\n",
    "\n",
    "#patrones\n",
    "trans=nx. average_clustering(g)\n",
    "print('La transitividad promedio simple en la red es:',trans)\n",
    "\n",
    "trans_p=nx. average_clustering(g,weight='weight')\n",
    "print('La transitividad promedio ponderada en la red es:',trans_p)\n",
    "\n",
    "##############################DIAMETRO##########################################################\n",
    "\n",
    "maximo_conectado=max(nx.connected_component_subgraphs(g),key=len)\n",
    "diametro_sg=nx.diameter(maximo_conectado)\n",
    "print('El diámetro del subgrafo más conectado es:',diametro_sg)\n",
    "\n",
    "##############################DENSIDAD###################################################################\n",
    "\n",
    "densidad= nx.density(g)\n",
    "print('La densidad de la red es:', densidad)\n",
    "\n",
    "##############################MODULARIDAD##############################################################\n",
    "partition=community.best_partition(g)\n",
    "for n in g.nodes() :\n",
    "     g.node[n]['comunidad']= partition[n]\n",
    "\n",
    "valores=[partition.get(node) for node in g.nodes()]\n",
    "comunidades=set([v for (k,v) in partition.items() ])\n",
    "\n",
    "print('la red tiene',len(comunidades), 'coumunidades')\n",
    "\n",
    "print('la modularidad de la red es', community.modularity(partition,g))\n",
    "\n",
    "#nx.draw_networkx(g, cmap=plt.get_cmap('jet'),node_color=valores,\n",
    "#                 node_size=30,with_labels=False)\n",
    "#plt.show()\n",
    "nx.write_graphml(g, \"./amistades.graphml\")"
   ]
  },
  {
   "cell_type": "code",
   "execution_count": 12,
   "metadata": {
    "hideCode": false,
    "hidePrompt": false
   },
   "outputs": [
    {
     "name": "stdout",
     "output_type": "stream",
     "text": [
      "Probabilidad observada  de relación MM:  0.2927256792287467 Probabilidad observada  de relación MH:  0.4609991235758107 Probabilidad observada  de relación HH:  0.24602479028421184 Probabilidad de hombre:  0.49117247623358984 Probabilidad de mujer:  0.4938886373924853 Probabilidad de NA:  0.014938886373924853\n"
     ]
    }
   ],
   "source": [
    "#Homofilia\n",
    "# función que calcula probabilidad de relaciones MM, MH e HH en Red original\n",
    "NH=0\n",
    "NM=0\n",
    "NN=0\n",
    "\n",
    "def prob_relaciones(g):\n",
    "    RMM=0\n",
    "    RMH=0\n",
    "    RHH=0\n",
    "\n",
    "    for e in g.edges() :\n",
    "\n",
    "        if not g.node[e[0]]['sexo']==g.node[e[1]]['sexo']:\n",
    "            RMH=RMH+1\n",
    "        else:\n",
    "            if g.node[e[0]]['sexo']== '1':\n",
    "                RHH=RHH+1\n",
    "            if g.node[e[0]]['sexo']== '2':\n",
    "                RMM=RMM+1\n",
    "    PMM=RMM/g.number_of_edges()        \n",
    "    PMH=RMH/g.number_of_edges()        \n",
    "    PHH=RHH/g.number_of_edges()\n",
    "    return PMM,PMH,PHH\n",
    "\n",
    "PMM_O=(prob_relaciones(g)[0])\n",
    "PMH_O=(prob_relaciones(g)[1])\n",
    "PHH_O=(prob_relaciones(g)[2])\n",
    "\n",
    "for n in g.nodes() :\n",
    "    if g.node[n]['sexo']=='1':\n",
    "        NH+=1\n",
    "    if g.node[n]['sexo']=='2':\n",
    "        NM+=1\n",
    "    if g.node[n]['sexo']=='0':\n",
    "        NN+=1\n",
    "\n",
    "PH=NH/g.number_of_nodes()\n",
    "PM=NM/g.number_of_nodes()\n",
    "PN=NN/g.number_of_nodes()\n",
    "\n",
    "print('Probabilidad observada  de relación MM: ',PMM_O,'Probabilidad observada  de relación MH: ',\n",
    "      PMH_O,'Probabilidad observada  de relación HH: ',PHH_O, 'Probabilidad de hombre: ',PH,\n",
    "      'Probabilidad de mujer: ',PM,'Probabilidad de NA: ',PN) \n",
    "\n",
    "#cálculo de grado promedio en red original por sexo\n",
    "sexo=set([v['sexo'] for (k,v) in g.node.items() ])\n",
    "grado_sexo=[]\n",
    "tol_min={}\n",
    "tol_max={}\n",
    "for s in sexo:\n",
    "    nodos_sexo=[]\n",
    "    for i in range(len(g.nodes())):\n",
    "        if (g.node[g.nodes()[i]]['sexo']== s):\n",
    "            nodos_sexo.append(g.nodes()[i])\n",
    "    grado=g.degree(nodos_sexo)\n",
    "    valores=sum(grado.values())/g.number_of_nodes()\n",
    "    grado_sexo.append((s,valores))\n",
    "    tol_max[s]=valores*1.1\n",
    "    tol_min[s]=valores*0.9\n",
    "    \n",
    "\n",
    "                      \n",
    "#print(grado_sexo,tol_max,tol_min)\n",
    "\n"
   ]
  },
  {
   "cell_type": "code",
   "execution_count": 15,
   "metadata": {
    "collapsed": true,
    "hideCode": false,
    "hidePrompt": false
   },
   "outputs": [],
   "source": [
    "PMM_ratio=[]\n",
    "PMH_ratio=[]\n",
    "PHH_ratio=[]\n",
    "\n",
    "for i in range (1000):\n",
    "    g1=g\n",
    "    grado_sexo={}\n",
    "    cumple_tol=0\n",
    "    #Dar valor del atributo sexo a cada nodo de manera aleatoria respetando las probabilidades de la red original\n",
    "    for n in g1.nodes() :\n",
    "        #print('previo: ',g1.node[n]['sexo'])\n",
    "        nrd=rd.random()\n",
    "        #print(nrd)\n",
    "        if nrd<=PN :\n",
    "            g1.node[n]['sexo']='0'\n",
    "        if nrd>PN and nrd<=PN+PH:\n",
    "            g1.node[n]['sexo']='1'\n",
    "        if nrd>=PN+PH:\n",
    "            g1.node[n]['sexo']='2'\n",
    "        #print('posterior: ',g1.node[n]['sexo'])\n",
    "     #verificar si la tolerancia de grado promedio se cumple   \n",
    "    for s in sexo:\n",
    "        nodos_sexo=[]\n",
    "        for i in range(len(g1.nodes())):\n",
    "            if (g1.node[g1.nodes()[i]]['sexo']== s):\n",
    "                nodos_sexo.append(g1.nodes()[i])\n",
    "        grado=g1.degree(nodos_sexo)\n",
    "        grado_s=sum(grado.values())/g1.number_of_nodes()\n",
    "        #print(grado_s)\n",
    "        grado_sexo[s]=grado_s\n",
    "        if(grado_sexo[s]>=tol_min[s] and grado_sexo[s]<=tol_max[s]):\n",
    "            cumple_tol+=1\n",
    "\n",
    "    if(cumple_tol==3):\n",
    "        PMM_ratio.append(PMM_O/prob_relaciones(g1)[0])\n",
    "        PMH_ratio.append(PMH_O/prob_relaciones(g1)[1])\n",
    "        PHH_ratio.append(PHH_O/prob_relaciones(g1)[2])\n",
    "\n",
    "    "
   ]
  },
  {
   "cell_type": "code",
   "execution_count": 16,
   "metadata": {
    "hideCode": false,
    "hidePrompt": false
   },
   "outputs": [
    {
     "data": {
      "image/png": "[encoded data removed]",
      "text/plain": [
       "<matplotlib.figure.Figure at 0x7fb8fc3f40b8>"
      ]
     },
     "metadata": {},
     "output_type": "display_data"
    },
    {
     "data": {
      "image/png": "[encoded data removed]",
      "text/plain": [
       "<matplotlib.figure.Figure at 0x7fb8fc388dd8>"
      ]
     },
     "metadata": {},
     "output_type": "display_data"
    },
    {
     "data": {
      "image/png": "[encoded data removed]",
      "text/plain": [
       "<matplotlib.figure.Figure at 0x7fb8fc18f940>"
      ]
     },
     "metadata": {},
     "output_type": "display_data"
    },
    {
     "name": "stdout",
     "output_type": "stream",
     "text": [
      "(0.9909744262695312, 0.058989591896533966)\n",
      "(0.9929805994033813, 0.16531193256378174)\n",
      "(0.9819090366363525, 0.0006953381816856563)\n"
     ]
    }
   ],
   "source": [
    "plt.hist(PMM_ratio)\n",
    "plt.plot((1, 1), (0, 160), 'r')\n",
    "plt.title(\"Relaciones Mujer-Mujer\")\n",
    "plt.xlabel(\"Ratio\")\n",
    "plt.ylabel(\"Frequency\")\n",
    "plt.show()\n",
    "\n",
    "plt.hist(PMH_ratio)\n",
    "plt.plot((1, 1), (0, 160), 'r')\n",
    "plt.title(\"Relaciones Mujer-Hombre\")\n",
    "plt.xlabel(\"Ratio\")\n",
    "plt.ylabel(\"Frequency\")\n",
    "plt.show()\n",
    "\n",
    "plt.hist(PHH_ratio)\n",
    "plt.plot((1, 1), (0, 160), 'r')\n",
    "plt.title(\"Relaciones Hombre-Hombre\")\n",
    "plt.xlabel(\"Ratio\")\n",
    "plt.ylabel(\"Frequency\")\n",
    "plt.show()\n",
    "\n",
    "print(stats.shapiro(PMM_ratio))\n",
    "print(stats.shapiro(PMH_ratio))\n",
    "print(stats.shapiro(PHH_ratio))\n",
    "\n"
   ]
  },
  {
   "cell_type": "markdown",
   "metadata": {
    "hideCode": false,
    "hidePrompt": false
   },
   "source": [
    "# homofilia entre escuelas"
   ]
  },
  {
   "cell_type": "code",
   "execution_count": 17,
   "metadata": {
    "hideCode": false,
    "hidePrompt": false
   },
   "outputs": [
    {
     "name": "stdout",
     "output_type": "stream",
     "text": [
      "Probabilidad observada  de relación entre  estudiantes de la escuela 0:  0.012395142105922123 Probabilidad observada  de relación de diferentes escuelas:  0.018279704519844748 Probabilidad observada  de relación de estudiantes de la escuela 1:  0.7820207837736322 Probabilidad de ser de escuela 0:  0.17609778180172023 Probabilidad de ser de la escuela 1:  0.8239022181982798\n"
     ]
    }
   ],
   "source": [
    "#Homofilia\n",
    "# función que calcula probabilidad de relaciones MM, MH e HH en Red original\n",
    "N0=0\n",
    "N1=0\n",
    "\n",
    "def prob_relaciones(g):\n",
    "    R00=0\n",
    "    R01=0\n",
    "    R11=0\n",
    "\n",
    "    for e in g.edges() :\n",
    "\n",
    "        if not g.node[e[0]]['escuela']==g.node[e[1]]['escuela']:\n",
    "            R01+=1\n",
    "        else:\n",
    "            if g.node[e[0]]['escuela']== '1':\n",
    "                R11=R11+1\n",
    "            if g.node[e[0]]['sexo']== '0':\n",
    "                R00=R00+1\n",
    "    P00=R00/g.number_of_edges()        \n",
    "    P01=R01/g.number_of_edges()        \n",
    "    P11=R11/g.number_of_edges()\n",
    "    return P00,P01,P11\n",
    "\n",
    "P00_O=(prob_relaciones(g)[0])\n",
    "P01_O=(prob_relaciones(g)[1])\n",
    "P11_O=(prob_relaciones(g)[2])\n",
    "\n",
    "for n in g.nodes() :\n",
    "    if g.node[n]['escuela']=='1':\n",
    "        N1+=1\n",
    "    if g.node[n]['escuela']=='0':\n",
    "        N0+=1\n",
    "\n",
    "P0=N0/g.number_of_nodes()\n",
    "P1=N1/g.number_of_nodes()\n",
    "\n",
    "print('Probabilidad observada  de relación entre  estudiantes de la escuela 0: ',P00_O,'Probabilidad observada  de relación de diferentes escuelas: ',\n",
    "      P01_O,'Probabilidad observada  de relación de estudiantes de la escuela 1: ',P11_O, 'Probabilidad de ser de escuela 0: ',P0,\n",
    "      'Probabilidad de ser de la escuela 1: ',P1) \n",
    "\n",
    "#cálculo de grado promedio en red original por sexo\n",
    "escuela=set([v['escuela'] for (k,v) in g.node.items() ])\n",
    "grado_e=[]\n",
    "tol_min={}\n",
    "tol_max={}\n",
    "for e in escuela:\n",
    "    nodos_e=[]\n",
    "    for i in range(len(g.nodes())):\n",
    "        if (g.node[g.nodes()[i]]['escuela']== e):\n",
    "            nodos_e.append(g.nodes()[i])\n",
    "    grado=g.degree(nodos_e)\n",
    "    valores=sum(grado.values())/g.number_of_nodes()\n",
    "    grado_e.append((e,valores))\n",
    "    tol_max[e]=valores*1.1\n",
    "    tol_min[e]=valores*0.9\n",
    "    \n",
    "\n",
    "                      \n",
    "#print(grado_sexo,tol_max,tol_min)\n"
   ]
  },
  {
   "cell_type": "code",
   "execution_count": 21,
   "metadata": {
    "collapsed": true,
    "hideCode": false,
    "hidePrompt": false
   },
   "outputs": [],
   "source": [
    "P00_ratio=[]\n",
    "P01_ratio=[]\n",
    "P11_ratio=[]\n",
    "\n",
    "for i in range (1000):\n",
    "    g1=g\n",
    "    grado_escuela={}\n",
    "    cumple_tol=0\n",
    "    #Dar valor del atributo sexo a cada nodo de manera aleatoria respetando las probabilidades de la red original\n",
    "    for n in g1.nodes() :\n",
    "        #print('previo: ',g1.node[n]['sexo'])\n",
    "        nrd=rd.random()\n",
    "        #print(nrd)\n",
    "        if nrd<=P0 :\n",
    "            g1.node[n]['escuela']='0'\n",
    "        if nrd>P0 :\n",
    "            g1.node[n]['escuela']='1'\n",
    "        #print('posterior: ',g1.node[n]['sexo'])\n",
    "     #verificar si la tolerancia de grado promedio se cumple   \n",
    "    for e in escuela:\n",
    "        nodos_escuela=[]\n",
    "        for i in range(len(g1.nodes())):\n",
    "            if (g1.node[g1.nodes()[i]]['escuela']== e):\n",
    "                nodos_escuela.append(g1.nodes()[i])\n",
    "        grado=g1.degree(nodos_escuela)\n",
    "        grado_e=sum(grado.values())/g1.number_of_nodes()\n",
    "        #print(grado_s)\n",
    "        grado_escuela[e]=grado_e\n",
    "        if(grado_escuela[e]>=tol_min[e] and grado_escuela[e]<=tol_max[e]):\n",
    "            cumple_tol+=1\n",
    "\n",
    "    if(cumple_tol==2):\n",
    "        P00_ratio.append(P00_O/prob_relaciones(g1)[0])\n",
    "        P01_ratio.append(P01_O/prob_relaciones(g1)[1])\n",
    "        P11_ratio.append(P11_O/prob_relaciones(g1)[2])\n"
   ]
  },
  {
   "cell_type": "code",
   "execution_count": 19,
   "metadata": {
    "hideCode": false,
    "hidePrompt": false
   },
   "outputs": [
    {
     "data": {
      "image/png": "[encoded data removed]",
      "text/plain": [
       "<matplotlib.figure.Figure at 0x7fb8fc22cef0>"
      ]
     },
     "metadata": {},
     "output_type": "display_data"
    },
    {
     "data": {
      "image/png": "[encoded data removed]",
      "text/plain": [
       "<matplotlib.figure.Figure at 0x7fb8fb2d5fd0>"
      ]
     },
     "metadata": {},
     "output_type": "display_data"
    },
    {
     "data": {
      "image/png": "[encoded data removed]",
      "text/plain": [
       "<matplotlib.figure.Figure at 0x7fb8fb6312e8>"
      ]
     },
     "metadata": {},
     "output_type": "display_data"
    },
    {
     "name": "stdout",
     "output_type": "stream",
     "text": [
      "(0.8820861577987671, 8.335388201885507e-08)\n",
      "(0.9818947911262512, 0.14529575407505035)\n",
      "(0.8873186111450195, 1.4340407972213143e-07)\n"
     ]
    }
   ],
   "source": [
    "plt.hist(P00_ratio)\n",
    "plt.plot((1, 1), (0, 30), 'r')\n",
    "plt.title(\"Relaciones entre estudiantes de la escuela 0\")\n",
    "plt.xlabel(\"Ratio\")\n",
    "plt.ylabel(\"Frequency\")\n",
    "plt.show()\n",
    "\n",
    "plt.hist(P01_ratio)\n",
    "plt.plot((1, 1), (0, 15), 'r')\n",
    "plt.title(\"Relaciones entre estudiantes de escuelas distintas\")\n",
    "plt.xlabel(\"Ratio\")\n",
    "plt.ylabel(\"Frequency\")\n",
    "plt.show()\n",
    "\n",
    "plt.hist(P11_ratio)\n",
    "plt.plot((1, 1), (0, 30), 'r')\n",
    "plt.title(\"Relaciones entre estudiantes  de la escuela 1\")\n",
    "plt.xlabel(\"Ratio\")\n",
    "plt.ylabel(\"Frequency\")\n",
    "plt.show()\n",
    "\n",
    "print(stats.shapiro(P00_ratio))\n",
    "print(stats.shapiro(P01_ratio))\n",
    "print(stats.shapiro(P11_ratio))"
   ]
  },
  {
   "cell_type": "markdown",
   "metadata": {
    "hideCode": false,
    "hidePrompt": false
   },
   "source": [
    " #Normalized Mutual Information coefficient"
   ]
  },
  {
   "cell_type": "code",
   "execution_count": 23,
   "metadata": {
    "hideCode": false,
    "hidePrompt": false
   },
   "outputs": [
    {
     "ename": "KeyError",
     "evalue": "'comunidad'",
     "output_type": "error",
     "traceback": [
      "\u001b[0;31m---------------------------------------------------------------------------\u001b[0m",
      "\u001b[0;31mKeyError\u001b[0m                                  Traceback (most recent call last)",
      "\u001b[0;32m<ipython-input-23-28fbea8ec57b>\u001b[0m in \u001b[0;36m<module>\u001b[0;34m()\u001b[0m\n\u001b[1;32m      1\u001b[0m \u001b[0;31m#NMI para sexo\u001b[0m\u001b[0;34m\u001b[0m\u001b[0;34m\u001b[0m\u001b[0m\n\u001b[0;32m----> 2\u001b[0;31m \u001b[0mnodos_comunidad\u001b[0m\u001b[0;34m=\u001b[0m\u001b[0;34m[\u001b[0m\u001b[0mv\u001b[0m\u001b[0;34m[\u001b[0m\u001b[0;34m'comunidad'\u001b[0m\u001b[0;34m]\u001b[0m \u001b[0;32mfor\u001b[0m \u001b[0;34m(\u001b[0m\u001b[0mk\u001b[0m\u001b[0;34m,\u001b[0m\u001b[0mv\u001b[0m\u001b[0;34m)\u001b[0m \u001b[0;32min\u001b[0m \u001b[0mg\u001b[0m\u001b[0;34m.\u001b[0m\u001b[0mnode\u001b[0m\u001b[0;34m.\u001b[0m\u001b[0mitems\u001b[0m\u001b[0;34m(\u001b[0m\u001b[0;34m)\u001b[0m \u001b[0;34m]\u001b[0m\u001b[0;34m\u001b[0m\u001b[0m\n\u001b[0m\u001b[1;32m      3\u001b[0m \u001b[0mnodos_sexo\u001b[0m\u001b[0;34m=\u001b[0m\u001b[0;34m[\u001b[0m\u001b[0mv\u001b[0m\u001b[0;34m[\u001b[0m\u001b[0;34m'sexo'\u001b[0m\u001b[0;34m]\u001b[0m \u001b[0;32mfor\u001b[0m \u001b[0;34m(\u001b[0m\u001b[0mk\u001b[0m\u001b[0;34m,\u001b[0m\u001b[0mv\u001b[0m\u001b[0;34m)\u001b[0m \u001b[0;32min\u001b[0m \u001b[0mg\u001b[0m\u001b[0;34m.\u001b[0m\u001b[0mnode\u001b[0m\u001b[0;34m.\u001b[0m\u001b[0mitems\u001b[0m\u001b[0;34m(\u001b[0m\u001b[0;34m)\u001b[0m \u001b[0;34m]\u001b[0m\u001b[0;34m\u001b[0m\u001b[0m\n\u001b[1;32m      4\u001b[0m \u001b[0mnodos_raza\u001b[0m\u001b[0;34m=\u001b[0m\u001b[0;34m[\u001b[0m\u001b[0mv\u001b[0m\u001b[0;34m[\u001b[0m\u001b[0;34m'raza'\u001b[0m\u001b[0;34m]\u001b[0m \u001b[0;32mfor\u001b[0m \u001b[0;34m(\u001b[0m\u001b[0mk\u001b[0m\u001b[0;34m,\u001b[0m\u001b[0mv\u001b[0m\u001b[0;34m)\u001b[0m \u001b[0;32min\u001b[0m \u001b[0mg\u001b[0m\u001b[0;34m.\u001b[0m\u001b[0mnode\u001b[0m\u001b[0;34m.\u001b[0m\u001b[0mitems\u001b[0m\u001b[0;34m(\u001b[0m\u001b[0;34m)\u001b[0m \u001b[0;34m]\u001b[0m\u001b[0;34m\u001b[0m\u001b[0m\n\u001b[1;32m      5\u001b[0m \u001b[0mnodos_escuela\u001b[0m\u001b[0;34m=\u001b[0m\u001b[0;34m[\u001b[0m\u001b[0mv\u001b[0m\u001b[0;34m[\u001b[0m\u001b[0;34m'escuela'\u001b[0m\u001b[0;34m]\u001b[0m \u001b[0;32mfor\u001b[0m \u001b[0;34m(\u001b[0m\u001b[0mk\u001b[0m\u001b[0;34m,\u001b[0m\u001b[0mv\u001b[0m\u001b[0;34m)\u001b[0m \u001b[0;32min\u001b[0m \u001b[0mg\u001b[0m\u001b[0;34m.\u001b[0m\u001b[0mnode\u001b[0m\u001b[0;34m.\u001b[0m\u001b[0mitems\u001b[0m\u001b[0;34m(\u001b[0m\u001b[0;34m)\u001b[0m \u001b[0;34m]\u001b[0m\u001b[0;34m\u001b[0m\u001b[0m\n",
      "\u001b[0;32m<ipython-input-23-28fbea8ec57b>\u001b[0m in \u001b[0;36m<listcomp>\u001b[0;34m(.0)\u001b[0m\n\u001b[1;32m      1\u001b[0m \u001b[0;31m#NMI para sexo\u001b[0m\u001b[0;34m\u001b[0m\u001b[0;34m\u001b[0m\u001b[0m\n\u001b[0;32m----> 2\u001b[0;31m \u001b[0mnodos_comunidad\u001b[0m\u001b[0;34m=\u001b[0m\u001b[0;34m[\u001b[0m\u001b[0mv\u001b[0m\u001b[0;34m[\u001b[0m\u001b[0;34m'comunidad'\u001b[0m\u001b[0;34m]\u001b[0m \u001b[0;32mfor\u001b[0m \u001b[0;34m(\u001b[0m\u001b[0mk\u001b[0m\u001b[0;34m,\u001b[0m\u001b[0mv\u001b[0m\u001b[0;34m)\u001b[0m \u001b[0;32min\u001b[0m \u001b[0mg\u001b[0m\u001b[0;34m.\u001b[0m\u001b[0mnode\u001b[0m\u001b[0;34m.\u001b[0m\u001b[0mitems\u001b[0m\u001b[0;34m(\u001b[0m\u001b[0;34m)\u001b[0m \u001b[0;34m]\u001b[0m\u001b[0;34m\u001b[0m\u001b[0m\n\u001b[0m\u001b[1;32m      3\u001b[0m \u001b[0mnodos_sexo\u001b[0m\u001b[0;34m=\u001b[0m\u001b[0;34m[\u001b[0m\u001b[0mv\u001b[0m\u001b[0;34m[\u001b[0m\u001b[0;34m'sexo'\u001b[0m\u001b[0;34m]\u001b[0m \u001b[0;32mfor\u001b[0m \u001b[0;34m(\u001b[0m\u001b[0mk\u001b[0m\u001b[0;34m,\u001b[0m\u001b[0mv\u001b[0m\u001b[0;34m)\u001b[0m \u001b[0;32min\u001b[0m \u001b[0mg\u001b[0m\u001b[0;34m.\u001b[0m\u001b[0mnode\u001b[0m\u001b[0;34m.\u001b[0m\u001b[0mitems\u001b[0m\u001b[0;34m(\u001b[0m\u001b[0;34m)\u001b[0m \u001b[0;34m]\u001b[0m\u001b[0;34m\u001b[0m\u001b[0m\n\u001b[1;32m      4\u001b[0m \u001b[0mnodos_raza\u001b[0m\u001b[0;34m=\u001b[0m\u001b[0;34m[\u001b[0m\u001b[0mv\u001b[0m\u001b[0;34m[\u001b[0m\u001b[0;34m'raza'\u001b[0m\u001b[0;34m]\u001b[0m \u001b[0;32mfor\u001b[0m \u001b[0;34m(\u001b[0m\u001b[0mk\u001b[0m\u001b[0;34m,\u001b[0m\u001b[0mv\u001b[0m\u001b[0;34m)\u001b[0m \u001b[0;32min\u001b[0m \u001b[0mg\u001b[0m\u001b[0;34m.\u001b[0m\u001b[0mnode\u001b[0m\u001b[0;34m.\u001b[0m\u001b[0mitems\u001b[0m\u001b[0;34m(\u001b[0m\u001b[0;34m)\u001b[0m \u001b[0;34m]\u001b[0m\u001b[0;34m\u001b[0m\u001b[0m\n\u001b[1;32m      5\u001b[0m \u001b[0mnodos_escuela\u001b[0m\u001b[0;34m=\u001b[0m\u001b[0;34m[\u001b[0m\u001b[0mv\u001b[0m\u001b[0;34m[\u001b[0m\u001b[0;34m'escuela'\u001b[0m\u001b[0;34m]\u001b[0m \u001b[0;32mfor\u001b[0m \u001b[0;34m(\u001b[0m\u001b[0mk\u001b[0m\u001b[0;34m,\u001b[0m\u001b[0mv\u001b[0m\u001b[0;34m)\u001b[0m \u001b[0;32min\u001b[0m \u001b[0mg\u001b[0m\u001b[0;34m.\u001b[0m\u001b[0mnode\u001b[0m\u001b[0;34m.\u001b[0m\u001b[0mitems\u001b[0m\u001b[0;34m(\u001b[0m\u001b[0;34m)\u001b[0m \u001b[0;34m]\u001b[0m\u001b[0;34m\u001b[0m\u001b[0m\n",
      "\u001b[0;31mKeyError\u001b[0m: 'comunidad'"
     ]
    }
   ],
   "source": [
    "#NMI para sexo\n",
    "nodos_comunidad=[v['comunidad'] for (k,v) in g.node.items() ]\n",
    "nodos_sexo=[v['sexo'] for (k,v) in g.node.items() ]\n",
    "nodos_raza=[v['raza'] for (k,v) in g.node.items() ]\n",
    "nodos_escuela=[v['escuela'] for (k,v) in g.node.items() ]\n",
    "nodos_grado=[v['grado'] for (k,v) in g.node.items() ]\n",
    "\n",
    "print('El valor del NMI score para escuela y comunidad es: ', metrics.normalized_mutual_info_score(nodos_comunidad, nodos_escuela))\n",
    "print('El valor del NMI score para sexo y comunidad es: ',metrics.normalized_mutual_info_score(nodos_comunidad, nodos_sexo))\n",
    "print('El valor del NMI score para raza y comunidad es: ',metrics.normalized_mutual_info_score(nodos_comunidad, nodos_raza))\n",
    "print('El valor del NMI score para grado y comunidad es: ',metrics.normalized_mutual_info_score(nodos_comunidad, nodos_grado))\n",
    "    "
   ]
  },
  {
   "cell_type": "markdown",
   "metadata": {
    "hideCode": false,
    "hidePrompt": false
   },
   "source": [
    "# Modularidad"
   ]
  },
  {
   "cell_type": "code",
   "execution_count": 25,
   "metadata": {
    "hideCode": false,
    "hidePrompt": false
   },
   "outputs": [
    {
     "name": "stdout",
     "output_type": "stream",
     "text": [
      "0.1811668096941047\n",
      "{0: 0.7080550781249998, 1: 0.7219492502883508, 3: 0.5581382912947137, 4: 0.6464350874221467, 6: 0.5773873976969592, 7: 0.6677169681995245, 8: 0.6318493834007948, 9: 0.5602027500597395, 10: 0.6192673885177504, 11: 0.7277611989994464, 12: 0.6272905960156426, 13: 0.688036896001339, 14: 0.649431497467381, 15: 0.5122146087882187, 17: 0.6442554012345679, 18: 0.5693547872436359, 20: 0.7105034722222223, 21: 0.43960858452372803, 39: 0.0}\n"
     ]
    }
   ],
   "source": [
    "\n",
    "comunidades= set([v['comunidad'] for (k,v) in g.node.items() ])\n",
    "contador= {}\n",
    "modu_intracomunidad={}\n",
    "gc=nx.Graph()\n",
    "\n",
    "#Modularidad inter  comunidades\n",
    "for k,v in partition.items():\n",
    "    contador[v] = contador.get(v,0) + 1\n",
    "\n",
    "\n",
    "for e in g.edges() :\n",
    "    if not g.node[e[0]]['comunidad']==g.node[e[1]]['comunidad']:\n",
    "        if not(gc.has_edge(g.node[e[0]]['comunidad'],g.node[e[1]]['comunidad'])):\n",
    "            gc.add_edge(g.node[e[0]]['comunidad'],g.node[e[1]]['comunidad'])\n",
    "#print(gc.edges())\n",
    "            gc.edge[g.node[e[0]]['comunidad']][g.node[e[1]]['comunidad']]['weight']=1\n",
    "        else:\n",
    "            gc.edge[g.node[e[0]]['comunidad']][g.node[e[1]]['comunidad']]['weight']+=1\n",
    "        \n",
    "partition_c= community.best_partition(gc)\n",
    "\n",
    "modu_comunidad=community.modularity(partition_c,gc)\n",
    "\n",
    "print(modu_comunidad )\n",
    "\n",
    "#Modularidad entre comunidad\n",
    "\n",
    "for c in comunidades:\n",
    "    nodos_c=[]\n",
    "    for i in range(len(g.nodes())):\n",
    "        if (g.node[g.nodes()[i]]['comunidad']== c):\n",
    "            nodos_c.append(g.nodes()[i])\n",
    "            #print(nodos_casa)\n",
    "    if(len(nodos_c)>1):\n",
    "        sg=g.subgraph(nodos_c)\n",
    "        partition_sg= community.best_partition(sg)\n",
    "        modu_intracomunidad[c]=community.modularity(partition_sg,sg)\n",
    "print(modu_intracomunidad)\n",
    "    \n"
   ]
  },
  {
   "cell_type": "code",
   "execution_count": 26,
   "metadata": {
    "hideCode": false,
    "hidePrompt": false
   },
   "outputs": [
    {
     "name": "stdout",
     "output_type": "stream",
     "text": [
      "{0, 1, 2, 3, 4, 5, 6, 7, 8, 9, 10, 11, 12, 13, 14, 15, 16, 17, 18, 19, 20, 21, 22, 23, 24, 25, 26, 27, 28, 29, 30, 31, 32, 33, 34, 35, 36, 37, 38, 39, 40, 41, 42, 43, 44, 45, 46, 47, 48, 49, 50, 51, 52, 53, 54, 55, 56, 57, 58, 59, 60, 61, 62, 63, 64, 65, 66, 67, 68, 69, 70, 71, 72, 73}\n"
     ]
    }
   ],
   "source": [
    "print(comunidades)"
   ]
  }
 ],
 "metadata": {
  "hide_code_all_hidden": false,
  "kernelspec": {
   "display_name": "Python 3",
   "language": "python",
   "name": "python3"
  },
  "language_info": {
   "codemirror_mode": {
    "name": "ipython",
    "version": 3
   },
   "file_extension": ".py",
   "mimetype": "text/x-python",
   "name": "python",
   "nbconvert_exporter": "python",
   "pygments_lexer": "ipython3",
   "version": "3.6.1"
  }
 },
 "nbformat": 4,
 "nbformat_minor": 2
}
