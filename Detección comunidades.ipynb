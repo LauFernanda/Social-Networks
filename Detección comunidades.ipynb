{
 "cells": [
  {
   "cell_type": "code",
   "execution_count": 1,
   "metadata": {
    "hideCode": false,
    "hidePrompt": false
   },
   "outputs": [
    {
     "name": "stdout",
     "output_type": "stream",
     "text": [
      "Requirement already satisfied: python-louvain in /home/laufernanda/anaconda3/lib/python3.6/site-packages\n",
      "Requirement already satisfied: networkx<2.0.0 in /home/laufernanda/anaconda3/lib/python3.6/site-packages (from python-louvain)\n",
      "Requirement already satisfied: decorator>=3.4.0 in /home/laufernanda/anaconda3/lib/python3.6/site-packages (from networkx<2.0.0->python-louvain)\n"
     ]
    }
   ],
   "source": [
    "import pip\n",
    "pip.main(['install','python-louvain'])\n",
    "import networkx as nx\n",
    "import community\n",
    "import matplotlib.pyplot as plt"
   ]
  },
  {
   "cell_type": "code",
   "execution_count": 1,
   "metadata": {
    "hideCode": false,
    "hidePrompt": false
   },
   "outputs": [
    {
     "ename": "NameError",
     "evalue": "name 'nx' is not defined",
     "output_type": "error",
     "traceback": [
      "\u001b[0;31m---------------------------------------------------------------------------\u001b[0m",
      "\u001b[0;31mNameError\u001b[0m                                 Traceback (most recent call last)",
      "\u001b[0;32m<ipython-input-1-8841402575d9>\u001b[0m in \u001b[0;36m<module>\u001b[0;34m()\u001b[0m\n\u001b[1;32m      1\u001b[0m \u001b[0;31m#genera red con algoritmo Holme and kim\u001b[0m\u001b[0;34m\u001b[0m\u001b[0;34m\u001b[0m\u001b[0m\n\u001b[0;32m----> 2\u001b[0;31m \u001b[0mnet\u001b[0m\u001b[0;34m=\u001b[0m \u001b[0mnx\u001b[0m\u001b[0;34m.\u001b[0m\u001b[0mrandom_graphs\u001b[0m\u001b[0;34m.\u001b[0m\u001b[0mpowerlaw_cluster_graph\u001b[0m\u001b[0;34m(\u001b[0m\u001b[0;36m300\u001b[0m\u001b[0;34m,\u001b[0m\u001b[0;36m1\u001b[0m\u001b[0;34m,\u001b[0m\u001b[0;36m.00000009\u001b[0m\u001b[0;34m)\u001b[0m\u001b[0;34m\u001b[0m\u001b[0m\n\u001b[0m\u001b[1;32m      3\u001b[0m \u001b[0mpartition\u001b[0m\u001b[0;34m=\u001b[0m\u001b[0mcommunity\u001b[0m\u001b[0;34m.\u001b[0m\u001b[0mbest_partition\u001b[0m\u001b[0;34m(\u001b[0m\u001b[0mnet\u001b[0m\u001b[0;34m)\u001b[0m\u001b[0;34m\u001b[0m\u001b[0m\n\u001b[1;32m      4\u001b[0m \u001b[0mvalues\u001b[0m\u001b[0;34m=\u001b[0m\u001b[0;34m[\u001b[0m\u001b[0mpartition\u001b[0m\u001b[0;34m.\u001b[0m\u001b[0mget\u001b[0m\u001b[0;34m(\u001b[0m\u001b[0mnode\u001b[0m\u001b[0;34m)\u001b[0m \u001b[0;32mfor\u001b[0m \u001b[0mnode\u001b[0m \u001b[0;32min\u001b[0m \u001b[0mnet\u001b[0m\u001b[0;34m.\u001b[0m\u001b[0mnodes\u001b[0m\u001b[0;34m(\u001b[0m\u001b[0;34m)\u001b[0m\u001b[0;34m]\u001b[0m\u001b[0;34m\u001b[0m\u001b[0m\n\u001b[1;32m      5\u001b[0m nx.draw_networkx(net, cmap= plt.get_cmap('jet'),\n",
      "\u001b[0;31mNameError\u001b[0m: name 'nx' is not defined"
     ]
    }
   ],
   "source": [
    "#genera red con algoritmo Holme and kim\n",
    "net= nx.random_graphs.powerlaw_cluster_graph(300,1,.00000009)\n",
    "partition=community.best_partition(net)\n",
    "values=[partition.get(node) for node in net.nodes()]\n",
    "nx.draw_networkx(net, cmap= plt.get_cmap('jet'),\n",
    "node_color= values, node_size=(30), with_labels=False)\n",
    "\n",
    "plt.show()\n",
    "\n",
    "#print(values)\n",
    "\n",
    "for node in net.nodes():\n",
    "    \n",
    "    part = 'Com-' + partition.get(node)\n",
    "    print(part)\n",
    "    #net.node[node]['comunidad']= part\n",
    "\n",
    "nx.write_graphml(net,'./grafoHK.graphml')\n",
    "print(net.node)\n",
    "\n"
   ]
  }
 ],
 "metadata": {
  "hide_code_all_hidden": false,
  "kernelspec": {
   "display_name": "Python 3",
   "language": "python",
   "name": "python3"
  },
  "language_info": {
   "codemirror_mode": {
    "name": "ipython",
    "version": 3
   },
   "file_extension": ".py",
   "mimetype": "text/x-python",
   "name": "python",
   "nbconvert_exporter": "python",
   "pygments_lexer": "ipython3",
   "version": "3.6.1"
  }
 },
 "nbformat": 4,
 "nbformat_minor": 2
}
