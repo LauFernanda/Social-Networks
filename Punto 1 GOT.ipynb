{
 "cells": [
  {
   "cell_type": "markdown",
   "metadata": {
    "hideCode": false,
    "hidePrompt": false
   },
   "source": [
    "# Taller 1. \n",
    "\n",
    "## 2. Cargar red GOT"
   ]
  },
  {
   "cell_type": "code",
   "execution_count": 1,
   "metadata": {
    "hideCode": false,
    "hidePrompt": false
   },
   "outputs": [
    {
     "name": "stdout",
     "output_type": "stream",
     "text": [
      "La red tiene  208 nodos y  404 arcos\n"
     ]
    }
   ],
   "source": [
    "#Carga librerías importantes\n",
    "import networkx as nx\n",
    "import numpy as np\n",
    "import matplotlib.pyplot as plt\n",
    "import operator\n",
    "import pip\n",
    "import csv\n",
    "import pickle\n",
    "import operator\n",
    "\n",
    "#Read GOT network\n",
    "\n",
    "#Create empty network\n",
    "\n",
    "GOT= nx.DiGraph()\n",
    "#read nodes\n",
    "nodes= csv.reader(open('./Nodes_GOT(1).csv'))\n",
    "next(nodes,None)\n",
    "\n",
    "for row in nodes:\n",
    "    GOT.add_node(row[0])  \n",
    "    GOT.node[row[0]]['House']=row[3]\n",
    "\n",
    "    \n",
    "#read edges\n",
    "edges=csv.reader(open('./Edges_GOT(1).csv'))\n",
    "\n",
    "next(edges,None)\n",
    "\n",
    "for row in edges:\n",
    "    GOT.add_edge(row[0],row[1])\n",
    "    GOT.edge[row[0]][row[1]]['relation']=row[2]\n",
    "\n",
    "print('La red tiene ',GOT.number_of_nodes(),'nodos y ',GOT.number_of_edges(),'arcos')\n"
   ]
  },
  {
   "cell_type": "markdown",
   "metadata": {
    "hideCode": false,
    "hidePrompt": false
   },
   "source": [
    "### 2.A. Encontrar a los 5 personajes más conectados de la red por descendencia y matrimonios. ¿Qué se puede interpretar del rol de estos personajes en la red?"
   ]
  },
  {
   "cell_type": "code",
   "execution_count": 2,
   "metadata": {
    "hideCode": false,
    "hidePrompt": false
   },
   "outputs": [
    {
     "name": "stdout",
     "output_type": "stream",
     "text": [
      "Los 5 personajes con más matrimonios son: [('Jon Arryn', 3), ('Margaery Tyrell', 3), ('Walder Frey', 3), ('Quellon Greyjoy', 3), ('Daenerys Targaryen', 3)]\n",
      "Los 5 personajes con más hijos son: [('Quellon Greyjoy', 9), ('Oberyn Martell', 8), ('Walder Frey', 7), ('Eddard Stark', 6), ('Bethany Rosby', 5)]\n",
      "Estos personajes tienen muchos hijos y matrimonios: {'Quellon Greyjoy', 'Walder Frey'}\n"
     ]
    }
   ],
   "source": [
    "#Matrimonios\n",
    "matrimonios=[]\n",
    "for (i,j) in GOT.edges_iter():\n",
    "    if(GOT.edge[i][j]['relation']=='spouse'):\n",
    "        matrimonios.append((i,j,GOT.edge[i][j]))\n",
    "matrimonios_sg=nx.DiGraph(matrimonios)\n",
    "#Uso in_degree en lugar de degree para que no se me dupliquen los matrimonios porque es una relación recíproca\n",
    "matrimonios_ordenados=sorted(matrimonios_sg.in_degree_iter(),key=operator.itemgetter(1),reverse=True)\n",
    "matrimonios_mas=matrimonios_ordenados[0:5]\n",
    "print('Los 5 personajes con más matrimonios son:',matrimonios_mas)\n",
    "\n",
    "#Descendencia\n",
    "descendencia=[]\n",
    "for (i,j) in GOT.edges_iter():\n",
    "    if not(GOT.edge[i][j]['relation'] == 'spouse'):\n",
    "        descendencia.append((i,j,GOT.edge[i][j]))\n",
    "descendencia_sg=nx.DiGraph(descendencia)\n",
    "#Uso out_degree para que sólo me queden los hijos del nodo, no sus padres\n",
    "descendencia_ordenada=sorted(descendencia_sg.out_degree_iter(),key=operator.itemgetter(1),reverse=True)\n",
    "descendencia_mas=descendencia_ordenada[0:5]\n",
    "\n",
    "print('Los 5 personajes con más hijos son:', descendencia_mas)\n",
    "\n",
    "print( 'Estos personajes tienen muchos hijos y matrimonios:',set([d[0] for d in descendencia_mas]).intersection([d[0] for d in matrimonios_mas]))\n",
    "\n",
    "\n",
    "            \n",
    "\n"
   ]
  },
  {
   "cell_type": "code",
   "execution_count": 3,
   "metadata": {
    "hideCode": false,
    "hidePrompt": false
   },
   "outputs": [
    {
     "name": "stdout",
     "output_type": "stream",
     "text": [
      "Los 5 personajes con más relaciones familiares son: [('Quellon Greyjoy', 12), ('Walder Frey', 10), ('Oberyn Martell', 10), ('Eddard Stark', 9), ('Catelyn Stark', 8)]\n"
     ]
    }
   ],
   "source": [
    "# Para algunas mediciones convierto la red a una red no dirigida porque no quiero que cuente como un nodo posible que un nodo sea padre de su padre \n",
    "#o que el número de matrimonios tenga el doble de peso que el número de hijos.\n",
    "\n",
    "GOT_un= GOT.to_undirected()\n",
    "\n",
    "grado=sorted(GOT_un.degree_iter(),key=operator.itemgetter(1),reverse=True)\n",
    "print('Los 5 personajes con más relaciones familiares son:', grado[0:5])"
   ]
  },
  {
   "cell_type": "markdown",
   "metadata": {
    "collapsed": true,
    "hideCode": false,
    "hidePrompt": false
   },
   "source": [
    "### Conclusiones: \n",
    "Dos de los personajes con más hijos a la vez tienen más matrimonios. Probablemente ellos conectaron varias partes de la red. Sin embargo, la diferencia entre estos conjuntos sugiere que no hay una relación directa entre número de matrimonios e hijos. "
   ]
  },
  {
   "cell_type": "markdown",
   "metadata": {
    "hideCode": false,
    "hidePrompt": false
   },
   "source": [
    "### 2.B. Encontrar la casa más densamente conectada (medida como la densidad del subgrafo que representa a cada casa). ¿Qué se puede interpretar acerca de la estructura de esta casa con respecto a las demás?\n"
   ]
  },
  {
   "cell_type": "code",
   "execution_count": 4,
   "metadata": {
    "hideCode": false,
    "hidePrompt": false
   },
   "outputs": [
    {
     "name": "stdout",
     "output_type": "stream",
     "text": [
      "La 3 casas más densamente conectadas en la red no direccionada son: [('House Bolton', 1.0), ('House Tully', 0.5), ('House Arryn', 0.4)]\n",
      "Las 3  casas más densamente conectadas en la  red direccionada son: [('House Bolton', 0.5), ('House Arryn', 0.25), ('House Tully', 0.25)]\n"
     ]
    }
   ],
   "source": [
    "#Crea subgrafo por casa\n",
    "casas=set([v['House'] for (k,v) in GOT_un.node.items() ])\n",
    "densidad=[]\n",
    "for casa in casas:\n",
    "    nodos_casa=[]\n",
    "    for i in range(len(GOT_un.nodes())):\n",
    "        if (GOT_un.node[GOT_un.nodes()[i]]['House']== casa):\n",
    "            nodos_casa.append(GOT_un.nodes()[i])\n",
    "            #print(nodos_casa)\n",
    "    SG=GOT_un.subgraph(nodos_casa)\n",
    "    densidad.append((casa, nx.density(SG)))\n",
    "\n",
    "densidad_casas=sorted(densidad,key=operator.itemgetter(1),reverse=True)\n",
    "print('La 3 casas más densamente conectadas en la red no direccionada son:',densidad_casas[0:3])\n",
    "\n",
    "#subgrafos direccionados\n",
    "#Crea subgrafo por casa\n",
    "casas=set([v['House'] for (k,v) in GOT.node.items() ])\n",
    "densidad=[]\n",
    "for casa in casas:\n",
    "    nodos_casa=[]\n",
    "    for i in range(len(GOT.nodes())):\n",
    "        if (GOT_un.node[GOT.nodes()[i]]['House']== casa):\n",
    "            nodos_casa.append(GOT.nodes()[i])\n",
    "            #print(nodos_casa)\n",
    "    SG=GOT.subgraph(nodos_casa)\n",
    "    densidad.append((casa, nx.density(SG)))\n",
    "\n",
    "densidad_casas=sorted(densidad,key=operator.itemgetter(1),reverse=True)\n",
    "print('Las 3  casas más densamente conectadas en la  red direccionada son:',densidad_casas[0:3])\n",
    "\n",
    "\n",
    "    \n",
    "\n"
   ]
  },
  {
   "cell_type": "markdown",
   "metadata": {
    "hideCode": false,
    "hidePrompt": false
   },
   "source": [
    "### 2.C. Encontrar la casa con más conexiones con otras casas. ¿Qué se puede interpretar acerca del rol de esta casa en el sistema social de GOT?\n",
    "*Utilizo Got_un porque no quiero que me cuente un matrimonio con alguien de otra casa como dos relaciones externas*"
   ]
  },
  {
   "cell_type": "code",
   "execution_count": 20,
   "metadata": {
    "hideCode": false,
    "hidePrompt": false
   },
   "outputs": [
    {
     "name": "stdout",
     "output_type": "stream",
     "text": [
      "[('House Lannister', 47), ('House Stark', 29), ('House Frey', 27), ('House Tyrell', 22), ('House Greyjoy', 18), ('House Tully', 14), ('House Baratheon', 14), ('House Targaryen', 14), ('House Martell', 13), ('House Darry', 8), ('House Marbrand', 8), ('House Royce', 7), ('House Crakehall', 6), ('House Rosby', 6), ('House Sunderly', 6), ('House Redwyne', 6), ('House Hightower', 5), ('House Blackwood', 5), ('House Harlaw', 5), ('House Arryn', 4), ('House Whent', 4), ('House Stonetree', 4), ('House Lefford', 4), ('House Dorne', 4), ('House Uller', 4), ('House Karstark', 4), ('House Norridge', 4), ('House Swyft', 3), ('House Brax', 3), ('House Prester', 3), ('House Serry', 3), ('House Moryn', 3), ('House Florent', 2), ('House Bolton', 2), ('House Piper', 2), ('House Stackspear', 2), ('House Webber', 2), ('House Flint', 2), ('House Glover', 2), ('House Locke', 2), ('House Waynwood', 1), ('House Baelish', 1), ('House Ironmaker', 1), ('House Farman', 1), ('House Jast', 1), ('House Hayford', 1), ('House Kyndall', 1), ('House Tysha', 1), ('House Norvos', 1), ('House Norrey', 1), ('House Westerling', 1), ('House Ryswell', 1), ('House Manderly', 1), ('House Dayne', 1), ('Dothraki', 1), ('House Loraq', 1), ('House Oldstones', 1), ('House Fossoway', 1), ('House Blackbar', 1)]\n"
     ]
    }
   ],
   "source": [
    "num_relaciones_externas={}\n",
    "for (i,j) in GOT_un.edges_iter():\n",
    "    if not (GOT_un.node[i]['House']== GOT_un.node[j]['House']):\n",
    "        num_relaciones_externas[GOT_un.node[i]['House']]= num_relaciones_externas.get(GOT_un.node[i]['House'],0)+1\n",
    "        num_relaciones_externas[GOT_un.node[j]['House']]= num_relaciones_externas.get(GOT_un.node[j]['House'],0)+1\n",
    "\n",
    "num_relaciones_externas= [(k,v) for k, v in num_relaciones_externas.items()]\n",
    "num_relaciones_externas_orden=sorted(num_relaciones_externas,key=operator.itemgetter(1),reverse=True)        \n",
    "\n",
    "print(num_relaciones_externas_orden)      "
   ]
  },
  {
   "cell_type": "markdown",
   "metadata": {
    "hideCode": false,
    "hidePrompt": false
   },
   "source": [
    "### 2.D. Encontrar el personaje de cada casa principal que en promedio se encuentra más cerca a los personajes de la red. ¿Cuál es una posible explicación de la posición de estos personajes?\n",
    "*se usa la red no dirigida porque en general para llegar de un nodo a otro no es relevante la direccionalidad de estas relaciones*"
   ]
  },
  {
   "cell_type": "code",
   "execution_count": 23,
   "metadata": {
    "hideCode": false,
    "hidePrompt": false
   },
   "outputs": [
    {
     "name": "stdout",
     "output_type": "stream",
     "text": [
      "[('House Waynwood', ('Elys Waynwood', 0.08138415698410725)), ('House Norrey', ('Arra Norrey', 0.07901155083417724)), ('House Martell', ('Elia Martell', 0.12292581810846437)), ('House Ryswell', ('Robyn Ryswell', 0.07281192381776418)), ('House Oldstones', ('Jenny of Oldstones', 0.09858196382947865)), ('House Dorne', ('Princess of Dorne', 0.11015739442106905)), ('House Bolton', ('Ramsay Bolton', 0.14631016396971466)), ('House Blackbar', ('Leo Blackbar', 0.06932357342779416)), ('House Stackspear', ('Alys Stackspear', 0.12554703040636545)), ('House Sunderly', ('Lady of House Sunderly', 0.05049088359046283)), ('House Uller', ('Ellaria Sand', 0.08972357401610982)), ('House Arryn', ('Jon Arryn', 0.11065713632706223)), ('House Karstark', ('Alys Karstark', 0.09459499243914515)), ('House Tysha', ('Tysha', 0.14193180494817706)), ('House Fossoway', ('Leonette Fossoway', 0.09464742868772562)), ('House Ironmaker', ('Erik Ironmaker', 0.02608695652173913)), ('House Prester', ('Marla Prester', 0.14288197602732805)), ('House Lefford', ('Myranda Lefford', 0.11072889841287743)), ('Dothraki', ('Drogo', 0.1013919010407702)), ('House Locke', ('Marna Locke', 0.12704163791120313)), ('House Targaryen', ('Rhaegar Targaryen', 0.1385908777213125)), ('House Hayford', ('Ermesande Hayford', 0.1013919010407702)), ('House Blackwood', ('Betha Blackwood', 0.1248128372460943)), ('House Norvos', ('Mellario of Norvos', 0.08883660840408794)), ('House Glover', ('Lyanna Glover', 0.10267225577429767)), ('House Westerling', ('Jeyne Westerling', 0.12310307235231219)), ('House Hightower', ('Alerie Hightower', 0.11767330210382979)), ('House Baratheon', ('Robert Baratheon', 0.14469827233276017)), ('House Redwyne', ('Olenna Redwyne', 0.1067817144169212)), ('House Moryn', ('Olene Tyrell', 0.075019315181308)), ('House Harlaw', ('Alannys Harlaw', 0.03817603393425238)), ('House Baelish', ('Petyr Baelish', 0.10987384900428379)), ('House Farman', ('Alysanne Farman', 0.11065713632706223)), ('House Lannister', ('Tyrion Lannister', 0.16805508007151282)), ('House Tully', ('Catelyn Stark', 0.1578040308250065)), ('House Crakehall', ('Amarei Crakehall', 0.11101687994321002)), ('House Stark', ('Sansa Stark', 0.16822065157897242)), ('House Florent', ('Selyse Florent', 0.10481520033926152)), ('House Kyndall', ('Teora Kyndall', 0.0894415722119733)), ('House Piper', ('Lady of House Piper', 0.03817603393425238)), ('House Tyrell', ('Margaery Tyrell', 0.1322571350524067)), ('House Greyjoy', ('Quellon Greyjoy', 0.0626086956521739)), ('House Serry', ('Lia Serry', 0.06949286176339317)), ('House Swyft', ('Dorna Swyft', 0.11662838890208813)), ('House Flint', ('Arya Flint', 0.12828246532881818)), ('House Whent', ('Minisa Whent', 0.14264324256696492)), ('House Manderly', ('Myriame Manderly', 0.07872012971537898)), ('House Brax', ('Cerissa Brax', 0.11101687994321002)), ('House Frey', ('Walder Frey', 0.1250871511741077)), ('House Loraq', ('Hizdahr zo Loraq', 0.1013919010407702)), ('House Marbrand', ('Jeyne Marbrand', 0.1507007602406505)), ('House Darry', ('Mariya Darry', 0.11405742241326454)), ('House Rosby', ('Bethany Rosby', 0.11631060037646936)), ('House Dayne', ('Dyanna Dayne', 0.11022850958854552)), ('House Norridge', ('Elyn Norridge', 0.07515139144043002)), ('House Royce', ('Perra Royce', 0.1167879352617353)), ('House Stonetree', ('Lady of House Stonetree', 0.04013377926421405)), ('House Webber', ('Rohanne Webber', 0.125454784241482)), ('House Jast', ('Antario Jast', 0.08972357401610982))]\n"
     ]
    }
   ],
   "source": [
    "cercania=[]\n",
    "for casa in casas:\n",
    "    cercania_casa=[]\n",
    "    for i in range(len(GOT_un.nodes())):\n",
    "        if (GOT.node[GOT_un.nodes()[i]]['House']== casa):\n",
    "            cercania_casa.append((GOT_un.nodes()[i],nx.closeness_centrality(GOT_un,GOT_un.nodes()[i])))\n",
    "            cercania_casa=sorted(cercania_casa,key=operator.itemgetter(1),reverse=True)\n",
    "    cercania.append((casa,cercania_casa ))\n",
    "cercania_orden= [(d[0],sorted(d[1],key=operator.itemgetter(1),reverse=True)) for d in cercania]\n",
    "mas_cercano_por_casa= [(d[0],d[1][0]) for d in cercania_orden]\n",
    "print(mas_cercano_por_casa)\n"
   ]
  },
  {
   "cell_type": "markdown",
   "metadata": {
    "hideCode": false,
    "hidePrompt": false
   },
   "source": [
    "### 2.E. Encontrar a los 5 personajes que se encuentran más veces dentro del camino más corto entre todos los nodos de la red. ¿Qué puede suceder con la topología de la red si estos personajes son asesinados?\n",
    "*utilizo la red no dirigida porque en la inormación puede fluir sin importar la dirección de la relación, es decir, es posible que fluya de hijos a padres.*"
   ]
  },
  {
   "cell_type": "code",
   "execution_count": 311,
   "metadata": {
    "hideCode": false,
    "hidePrompt": false
   },
   "outputs": [
    {
     "name": "stdout",
     "output_type": "stream",
     "text": [
      "[('Eddard Stark', 0.3248845805680062), ('Sansa Stark', 0.28918280208446345), ('Tyrion Lannister', 0.2634718017568876), ('Tywin Lannister', 0.23781225082703206), ('Joanna Lannister', 0.2221999191390007)]\n"
     ]
    }
   ],
   "source": [
    "betweenness=nx.betweenness_centrality(GOT_un)\n",
    "betweenness= [(k,v) for k, v in betweenness.items()]\n",
    "betweenness_ordenadas=sorted(betweenness,key=operator.itemgetter(1),reverse=True)     \n",
    "print(betweenness_ordenadas[0:5])\n",
    "\n"
   ]
  },
  {
   "cell_type": "markdown",
   "metadata": {
    "hideCode": false,
    "hidePrompt": false
   },
   "source": [
    "### 2.F. Encontrar la probabilidad de que los padres de un personaje sean esposos. ¿Qué puede inferir de las relaciones familiares de los personajes de GOT?"
   ]
  },
  {
   "cell_type": "code",
   "execution_count": 25,
   "metadata": {
    "hideCode": false,
    "hidePrompt": false
   },
   "outputs": [
    {
     "name": "stdout",
     "output_type": "stream",
     "text": [
      "La probabilidad de que los padres de un personaje sean esposos es:  0.9122807017543859\n"
     ]
    }
   ],
   "source": [
    "familia_nuclear=[]\n",
    "\n",
    "for i in GOT.nodes_iter():\n",
    "    parents= {}\n",
    "    for j in GOT.nodes_iter():\n",
    "        if(GOT.has_edge(j,i)):\n",
    "            if not (GOT.edge[j][i]['relation']=='spouse'):\n",
    "                    #print(i,' is child of ',j,GOT.edge[j][i])\n",
    "                    parents[GOT.edge[j][i]['relation']] = j\n",
    "                    \n",
    "          \n",
    "    if('mother' in parents and 'father' in parents):\n",
    "        #print(i, parents)\n",
    "        if(GOT.has_edge(parents['mother'], parents['father'])):\n",
    "            if GOT.edge[parents['mother']][parents['father']]['relation'] ==  'spouse':\n",
    "                familia_nuclear.append(1)\n",
    "        else:\n",
    "            familia_nuclear.append(0)\n",
    "                    \n",
    "print('La probabilidad de que los padres de un personaje sean esposos es: ', sum(familia_nuclear)/len(familia_nuclear))\n"
   ]
  },
  {
   "cell_type": "markdown",
   "metadata": {
    "hideCode": false,
    "hidePrompt": false
   },
   "source": [
    "### 2.G. Encontrar a los 5 personajes más conectados y cuyos vecinos tienen mayor grado. ¿Qué puede inferir de la influencia de estos personajes en la red?\n",
    "*De nuevo, utilizo  la red no dirigida porque no quiero que me cuente el matrimonio como dos relaciones*"
   ]
  },
  {
   "cell_type": "code",
   "execution_count": 26,
   "metadata": {
    "hideCode": false,
    "hidePrompt": false
   },
   "outputs": [
    {
     "name": "stdout",
     "output_type": "stream",
     "text": [
      "Los 5 personajes con mayor centralidad eigenvector son:  [('Tywin Lannister', 0.29286328772259573), ('Cersei Lannister', 0.2685257630832046), ('Joanna Lannister', 0.24477869576073166), ('Jeyne Marbrand', 0.23985724797654798), ('Tytos Lannister', 0.23985724797654792)]\n"
     ]
    }
   ],
   "source": [
    "eigenvector_centrality= nx.eigenvector_centrality_numpy(GOT_un)\n",
    "eigenvector_centrality= [(k,v) for k, v in eigenvector_centrality.items()]\n",
    "eigenvector_centrality_ordenado= sorted(eigenvector_centrality,key=operator.itemgetter(1),reverse=True)\n",
    "print('Los 5 personajes con mayor centralidad eigenvector son: ', eigenvector_centrality_ordenado[0:5])\n"
   ]
  },
  {
   "cell_type": "markdown",
   "metadata": {
    "hideCode": false,
    "hidePrompt": false
   },
   "source": [
    "### Visualice la red resaltando a los personajes encontrados en los literales anteriores con distintos colores según la medida de centralidad. Especifique los casos en que un personaje aparezca en varias medidas."
   ]
  }
 ],
 "metadata": {
  "hide_code_all_hidden": false,
  "kernelspec": {
   "display_name": "Python 3",
   "language": "python",
   "name": "python3"
  },
  "language_info": {
   "codemirror_mode": {
    "name": "ipython",
    "version": 3
   },
   "file_extension": ".py",
   "mimetype": "text/x-python",
   "name": "python",
   "nbconvert_exporter": "python",
   "pygments_lexer": "ipython3",
   "version": "3.6.1"
  }
 },
 "nbformat": 4,
 "nbformat_minor": 2
}
