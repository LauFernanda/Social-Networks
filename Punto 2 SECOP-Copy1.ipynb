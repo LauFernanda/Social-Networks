{
 "cells": [
  {
   "cell_type": "markdown",
   "metadata": {
    "hideCode": false,
    "hidePrompt": false
   },
   "source": [
    "## 1. importar los archivos .csv con los dos tipos de nodos y los arcos en Python, crear la red bipartita con la librería networkx"
   ]
  },
  {
   "cell_type": "code",
   "execution_count": 1,
   "metadata": {
    "collapsed": true,
    "hideCode": false,
    "hidePrompt": false
   },
   "outputs": [],
   "source": [
    "#Carga librerías importantes\n",
    "import networkx as nx\n",
    "import numpy as np\n",
    "import matplotlib.pyplot as plt\n",
    "import operator\n",
    "import pip\n",
    "import csv\n",
    "import pickle\n",
    "import operator\n",
    "from networkx.algorithms import bipartite\n",
    "import random\n"
   ]
  },
  {
   "cell_type": "code",
   "execution_count": 2,
   "metadata": {
    "hideCode": false,
    "hidePrompt": false
   },
   "outputs": [
    {
     "name": "stdout",
     "output_type": "stream",
     "text": [
      "La red tiene  42322 nodos y  44022 arcos\n",
      "True\n"
     ]
    }
   ],
   "source": [
    "#Read SECOP network\n",
    "\n",
    "#Create empty network\n",
    "\n",
    "SECOP= nx.Graph()\n",
    "\n",
    "entidades=csv.reader(open('./Nodos_entidad(1).csv',encoding='Latin-1'),delimiter=';')\n",
    "\n",
    "next(entidades,None)\n",
    "#read nodes\n",
    "for row in entidades:\n",
    "    nodename = 'E-' + row[0]\n",
    "    SECOP.add_node(nodename,bipartite=0)\n",
    "    SECOP.node[nodename]['nombre']=row[1]\n",
    "\n",
    "contratistas=csv.reader(open('./Nodos_contratista(1).csv',encoding='Latin-1'),delimiter=';')\n",
    "next(contratistas,None)\n",
    "\n",
    "for row in contratistas:\n",
    "    nodename = 'C-' + row[0]\n",
    "    SECOP.add_node(nodename,bipartite=1)\n",
    "    SECOP.node[nodename]['nombre']=row[1]\n",
    "    \n",
    "\n",
    "    \n",
    "#read edges\n",
    "edges=csv.reader(open('./Arcos_procesos(1).csv',encoding='Latin-1'),delimiter=';')\n",
    "                 \n",
    "next(edges,None)\n",
    "for row in edges:\n",
    "    nodename_e = 'E-' + row[0]\n",
    "    nodename_c = 'C-' + row[1]\n",
    "    if(nodename_e in SECOP.nodes()) and (nodename_c in SECOP.nodes()):\n",
    "        SECOP.add_edge(nodename_e,nodename_c)\n",
    "        SECOP.edge[nodename_e][nodename_c]['Estado del proceso']=row[2]\n",
    "        SECOP.edge[nodename_e][nodename_c]['Objeto a contratar']=row[3]\n",
    "        SECOP.edge[nodename_e][nodename_c]['Origen recursos']=row[4]\n",
    "        SECOP.edge[nodename_e][nodename_c]['Valor contrato con adiciones']=row[5]\n",
    "\n",
    "print('La red tiene ',SECOP.number_of_nodes(),'nodos y ',SECOP.number_of_edges(),'arcos')\n",
    "\n",
    "print(nx.is_bipartite(SECOP))\n"
   ]
  },
  {
   "cell_type": "markdown",
   "metadata": {
    "hideCode": false,
    "hidePrompt": false
   },
   "source": [
    "### 1.A. Proyección desde la red bipartita a una red de entidades con pesos"
   ]
  },
  {
   "cell_type": "code",
   "execution_count": 3,
   "metadata": {
    "hideCode": false,
    "hidePrompt": false
   },
   "outputs": [
    {
     "name": "stdout",
     "output_type": "stream",
     "text": [
      "La red tiene  262 nodos y  6401 arcos\n"
     ]
    }
   ],
   "source": [
    "entidades = set(nodes for nodes,tipo in SECOP.nodes(data=True) if tipo['bipartite']==0)\n",
    "entidades_net= bipartite.weighted_projected_graph(SECOP,entidades)\n",
    "print('La red tiene ',entidades_net.number_of_nodes(),'nodos y ',entidades_net.number_of_edges(),'arcos')"
   ]
  },
  {
   "cell_type": "markdown",
   "metadata": {
    "hideCode": false,
    "hidePrompt": false
   },
   "source": [
    "### 1.B. Proyección desde la red bipartita a una red de contratistas con pesos."
   ]
  },
  {
   "cell_type": "code",
   "execution_count": null,
   "metadata": {
    "hideCode": false,
    "hidePrompt": false
   },
   "outputs": [
    {
     "name": "stdout",
     "output_type": "stream",
     "text": [
      "La red tiene  42060 nodos y  22633201 arcos\n"
     ]
    }
   ],
   "source": [
    "contratistas = set(nodes for nodes,tipo in SECOP.nodes(data=True) if tipo['bipartite']==1)\n",
    "contratistas2=random.sample(contratistas,100)\n",
    "contratistas_net= bipartite.weighted_projected_graph(SECOP,contratistas)\n",
    "print('La red tiene ',contratistas_net.number_of_nodes(),'nodos y ',contratistas_net.number_of_edges(),'arcos')"
   ]
  },
  {
   "cell_type": "markdown",
   "metadata": {
    "hideCode": false,
    "hidePrompt": false
   },
   "source": [
    "### 2.A. Calcule la cantidad promedio de conexiones. \n",
    " *Utilizo el grado sin pesos porque para el análisis me parece más interesante saber con cuántas entidades comparto contratistas(caso red de entidades) que saber cuántos contratistas comparto con otras entidades* "
   ]
  },
  {
   "cell_type": "code",
   "execution_count": 5,
   "metadata": {
    "hideCode": false,
    "hidePrompt": false
   },
   "outputs": [
    {
     "name": "stdout",
     "output_type": "stream",
     "text": [
      "La cantidad promedio de conexiones en la red de entidades es:  48.86259541984733 . Es decir, en promedio una entidad tiene contratistas en común con otras 48.86259541984733 entidades\n",
      "La cantidad promedio de conexiones en la red de contratistas es:  1076.2339990489777 . Es decir, en promedio un contratista tiene entidades en común con otros 1076.2339990489777 contratistas\n"
     ]
    }
   ],
   "source": [
    "#Entidades\n",
    "grado=entidades_net.degree()\n",
    "grado_promedio_simple= sum(grado.values())/entidades_net.number_of_nodes()\n",
    "print('La cantidad promedio de conexiones en la red de entidades es: ', grado_promedio_simple, \n",
    "      '. Es decir, en promedio una entidad tiene contratistas en común con otras',grado_promedio_simple, 'entidades')\n",
    "\n",
    "#Contratistas\n",
    "grado2=contratistas_net.degree()\n",
    "grado2_promedio_simple= sum(grado2.values())/contratistas_net.number_of_nodes()\n",
    "print('La cantidad promedio de conexiones en la red de contratistas es: ', grado2_promedio_simple,\n",
    "      '. Es decir, en promedio un contratista tiene entidades en común con otros',grado2_promedio_simple, 'contratistas')"
   ]
  },
  {
   "cell_type": "markdown",
   "metadata": {
    "hideCode": false,
    "hidePrompt": false
   },
   "source": [
    "### 2.B. La transitividad promedio de la red."
   ]
  },
  {
   "cell_type": "code",
   "execution_count": 6,
   "metadata": {
    "hideCode": false,
    "hidePrompt": false
   },
   "outputs": [
    {
     "name": "stdout",
     "output_type": "stream",
     "text": [
      "La transitividad promedio en la red de entidades es: 0.5371223061015926\n"
     ]
    }
   ],
   "source": [
    "#Entidades\n",
    "trans_e=nx. average_clustering(entidades_net)\n",
    "print('La transitividad promedio en la red de entidades es:',trans_e)\n",
    "\n",
    "#contratistas\n",
    "trans_c=nx. average_clustering(contratistas_net)\n",
    "print('La transitividad promedio en la red de contratistas es:',trans_c)\n"
   ]
  },
  {
   "cell_type": "markdown",
   "metadata": {
    "hideCode": false,
    "hidePrompt": false
   },
   "source": [
    "### 2.C. Fracción de conexiones reales sobre conexiones posibles."
   ]
  },
  {
   "cell_type": "code",
   "execution_count": 7,
   "metadata": {
    "hideCode": false,
    "hidePrompt": false
   },
   "outputs": [
    {
     "name": "stdout",
     "output_type": "stream",
     "text": [
      "La proporción de conexiones reales sobre conexiones posibles en la red de entidades es: 0.1872130092714457\n",
      "La proporción de conexiones reales sobre conexiones posibles en la red de contratistas es: 0.02558867303190703\n"
     ]
    }
   ],
   "source": [
    "#Entidades\n",
    "densidad_e= nx.density(entidades_net)\n",
    "print('La proporción de conexiones reales sobre conexiones posibles en la red de entidades es:', densidad_e)\n",
    "\n",
    "#Contratistas\n",
    "densidad_c=nx.density(contratistas_net)\n",
    "print('La proporción de conexiones reales sobre conexiones posibles en la red de contratistas es:', densidad_c)"
   ]
  },
  {
   "cell_type": "markdown",
   "metadata": {
    "hideCode": false,
    "hidePrompt": false
   },
   "source": [
    "### 2.D. Longitud promedio del camino entre todo par de nodos"
   ]
  },
  {
   "cell_type": "code",
   "execution_count": null,
   "metadata": {
    "hideCode": false,
    "hidePrompt": false
   },
   "outputs": [
    {
     "name": "stdout",
     "output_type": "stream",
     "text": [
      "La cercanía  en la red de entidades es: 1.971097068268932\n"
     ]
    }
   ],
   "source": [
    "#Entidades\n",
    "maximo_conectado_e=max(nx.connected_component_subgraphs(entidades_net),key=len)\n",
    "shortest_path_length_average_e= nx.average_shortest_path_length(maximo_conectado_e,weight='weight')\n",
    "print('La cercanía  en la red de entidades es:', shortest_path_length_average_e)\n",
    "#Contratistas\n",
    "maximo_conectado_c=max(nx.connected_component_subgraphs(contratistas_net),key=len)\n",
    "shortest_path_length_average_c= nx.average_shortest_path_length(maximo_conectado_c,weight='weight')\n",
    "cercania_c=nx.closeness_centrality(contratistas_net)\n",
    "print('La cercanía  en la red de contatistas es:', shortest_path_length_average_c)"
   ]
  },
  {
   "cell_type": "markdown",
   "metadata": {
    "hideCode": false,
    "hidePrompt": false
   },
   "source": [
    "### 3.A. 5 nodos con mayor Grado"
   ]
  },
  {
   "cell_type": "code",
   "execution_count": null,
   "metadata": {
    "hideCode": false,
    "hidePrompt": false
   },
   "outputs": [
    {
     "name": "stdout",
     "output_type": "stream",
     "text": [
      "Las 5 entidades con mayor grado son: [('E-899999034', 899), ('E-800140603', 817), ('E-EJERCITO NACIONAL', 539), ('E-800152783', 522), ('E-899999239', 493)]\n"
     ]
    }
   ],
   "source": [
    "#Entidades\n",
    "\n",
    "grado_e_ordenado= sorted(entidades_net.degree_iter(weight='weight'),key=operator.itemgetter(1),reverse=True)\n",
    "print('Las 5 entidades con mayor grado son:', grado_e_ordenado[0:5])\n",
    "\n",
    "#Contatistas\n",
    "\n",
    "grado_c_ordenado= sorted(contratistas_net.degree_iter(weight='weight'),key=operator.itemgetter(1),reverse=True)\n",
    "print('Los 5 contratistas con mayor grado son:', grado_c_ordenado[0:5])\n"
   ]
  },
  {
   "cell_type": "markdown",
   "metadata": {
    "hideCode": false,
    "hidePrompt": false
   },
   "source": [
    "### 3.B. 5 nodos con mayor Betweenness"
   ]
  },
  {
   "cell_type": "code",
   "execution_count": 10,
   "metadata": {
    "hideCode": false,
    "hidePrompt": false
   },
   "outputs": [
    {
     "name": "stdout",
     "output_type": "stream",
     "text": [
      "Las 5 entidades con mayor Betweenness son: [('E-830125996', 0.014128248936265938), ('E-860011153-6', 0.011984081309424), ('E-EJERCITO NACIONAL', 0.011204024155747741), ('E-800214417-9', 0.010280258045703622), ('E-899999239', 0.00915773900945805)]\n",
      "Los 5 contratistas con mayor Betweenness son: [('E-830125996', 0.014128248936265938), ('E-860011153-6', 0.011984081309424), ('E-EJERCITO NACIONAL', 0.011204024155747741), ('E-800214417-9', 0.010280258045703622), ('E-899999239', 0.00915773900945805)]\n"
     ]
    }
   ],
   "source": [
    "#Entidades\n",
    "betweenness_e= nx.betweenness_centrality(entidades_net,weight='weight')\n",
    "betweenness_e= [(k,v) for k, v in betweenness_e.items()]\n",
    "betweenness_e_ordenadas=sorted(betweenness_e,key=operator.itemgetter(1),reverse=True)     \n",
    "print('Las 5 entidades con mayor Betweenness son:', betweenness_e_ordenadas[0:5])\n",
    "\n",
    "#Contratistas\n",
    "betweenness_c= nx.betweenness_centrality(entidades_net,weight='weight')\n",
    "betweenness_c= [(k,v) for k, v in betweenness_c.items()]\n",
    "betweenness_c_ordenadas=sorted(betweenness_c,key=operator.itemgetter(1),reverse=True)     \n",
    "print('Los 5 contratistas con mayor Betweenness son:', betweenness_c_ordenadas[0:5])"
   ]
  },
  {
   "cell_type": "markdown",
   "metadata": {
    "hideCode": false,
    "hidePrompt": false
   },
   "source": [
    "### 3.C. 5 nodos con mayor coeficiente de Clustering "
   ]
  },
  {
   "cell_type": "code",
   "execution_count": null,
   "metadata": {
    "hideCode": false,
    "hidePrompt": false
   },
   "outputs": [
    {
     "name": "stdout",
     "output_type": "stream",
     "text": [
      "Las  5 entidades con mayor coeficiente de clustering son: [('E-800072977-0', 0.05421791617343344), ('E-899999034', 0.033511744540787536), ('E-899999044-3', 0.032758846034155714), ('E-DIVISION DE SANIDAD DE LA POLICI\\x8dA NACIONAL', 0.031257693900777504), ('E-800140603', 0.03020742550974177)]\n"
     ]
    }
   ],
   "source": [
    "#Entidades\n",
    "clustering_e= nx.clustering(entidades_net,weight='weight')\n",
    "clustering_e= [(k,v) for k, v in clustering_e.items()]\n",
    "clustering_e_ordenadas=sorted(clustering_e,key=operator.itemgetter(1),reverse=True)  \n",
    "print('Las  5 entidades con mayor coeficiente de clustering son:',clustering_e_ordenadas[0:5])\n",
    "#Contratistas\n",
    "clustering_c= nx.clustering(contratistas_net,weight='weight')\n",
    "clustering_c= [(k,v) for k, v in clustering_c.items()]\n",
    "clustering_c_ordenadas=sorted(clustering_c,key=operator.itemgetter(1),reverse=True)  \n",
    "print('Las  5 contratistas con mayor coeficiente de clustering son:',clustering_c_ordenadas[0:5])\n"
   ]
  },
  {
   "cell_type": "markdown",
   "metadata": {
    "hideCode": false,
    "hidePrompt": false
   },
   "source": [
    "### 3.D. 5 nodos con mayor Closeness"
   ]
  },
  {
   "cell_type": "code",
   "execution_count": 6,
   "metadata": {
    "hideCode": false,
    "hidePrompt": false
   },
   "outputs": [
    {
     "name": "stdout",
     "output_type": "stream",
     "text": [
      "Las  5 entidades con mayor closeness son: [('E-900948953-8', 0.5313636803740127), ('E-900003409-7', 0.4473791473057797), ('E-CORPOAMAZONI\\x8dA - CORPORACION PARA EL DESARROLLO SOSTENIBLE SUR DE LA AMAZONI\\x8dA', 0.3192792613093309), ('E-900657800-0', 0.4266311288800045), ('E-800248004', 0.24654562724221363)]\n"
     ]
    }
   ],
   "source": [
    "#Entidades\n",
    "closeness_e= nx.closeness_centrality(entidades_net)\n",
    "closeness_e= [(k,v) for k, v in closeness_e.items()]\n",
    "closeness_e_ordenadas=sorted(closeness_e,key=operator.itemgetter(1),reverse=True) \n",
    "print('Las  5 entidades con mayor closeness son:',closeness_e[0:5])\n",
    "\n",
    "#Contratistas\n",
    "closeness_c= nx.closeness_centrality(contratistas_net)\n",
    "closeness_c= [(k,v) for k, v in closeness_c.items()]\n",
    "closeness_c_ordenadas=sorted(closeness_c,key=operator.itemgetter(1),reverse=True) \n",
    "print('Los 5 contratistas con mayor closeness son:',closeness_c[0:5])"
   ]
  },
  {
   "cell_type": "markdown",
   "metadata": {
    "hideCode": false,
    "hidePrompt": false
   },
   "source": [
    "### 3.C. 5 nodos con mayor PageRank"
   ]
  },
  {
   "cell_type": "code",
   "execution_count": 7,
   "metadata": {
    "hideCode": false,
    "hidePrompt": false
   },
   "outputs": [
    {
     "name": "stdout",
     "output_type": "stream",
     "text": [
      "Las  5 entidades con mayor pagerank son: [('E-900948953-8', 0.008073327645156055), ('E-900003409-7', 0.0036293452008170192), ('E-CORPOAMAZONI\\x8dA - CORPORACION PARA EL DESARROLLO SOSTENIBLE SUR DE LA AMAZONI\\x8dA', 0.0007827423235201164), ('E-900657800-0', 0.0025345579215599917), ('E-800248004', 0.0008310675344746685)]\n"
     ]
    }
   ],
   "source": [
    "#Entidades\n",
    "pagerank_e=nx.pagerank(entidades_net,weight='weight')\n",
    "pagerank_e= [(k,v) for k, v in pagerank_e.items()]\n",
    "pagerank_e_ordenadas=sorted(pagerank_e,key=operator.itemgetter(1),reverse=True) \n",
    "print('Las  5 entidades con mayor pagerank son:',pagerank_e[0:5])\n",
    "\n",
    "#Contratistas\n",
    "pagerank_c=nx.pagerank(contratistas_net,weight='weight')\n",
    "pagerank_c= [(k,v) for k, v in pagerank_c.items()]\n",
    "pagerank_c_ordenadas=sorted(pagerank_c,key=operator.itemgetter(1),reverse=True) \n",
    "print('Los 5 contratistas con mayor pagerank son:',pagerank_c[0:5])\n"
   ]
  },
  {
   "cell_type": "markdown",
   "metadata": {
    "hideCode": false,
    "hidePrompt": false
   },
   "source": [
    "### 4. Haga una matriz de correlación entre las medidas y concluya cuales son las entidades o empresas contratistas con mayor incidencia en la contratación estatal."
   ]
  },
  {
   "cell_type": "code",
   "execution_count": null,
   "metadata": {
    "collapsed": true,
    "hideCode": false,
    "hidePrompt": false
   },
   "outputs": [],
   "source": [
    "#Entidades\n",
    "for n in entidades_net.nodes():\n",
    "    entidades_net.node[n]['grado_ponderado']=grado_e[n]\n",
    "    entidades_net.node[n]['intermediacion_ponderado']=betweenness_e[n]\n",
    "    entidades_net.node[n]['clustering_ponderado']=clustering_e[n]\n",
    "    entidades_net.node[n]['cercania_ponderado']=closeness_e[n]\n",
    "    entidades_net.node[n]['pagerank_ponderado']=pagerank_e[n]\n",
    "print('Asortatividad_e grado', nx.attribute_assortativity_coefficient(entidades_net,attribute='grado_ponderado'))\n",
    "print('Asortatividad_e intermediacion', nx.attribute_assortativity_coefficient(entidades_net,attribute='intermediacion_ponderado')) \n",
    "print('Asortatividad_e clustering', nx.attribute_assortativity_coefficient(entidades_net,attribute='clustering_ponderado')) \n",
    "print('Asortatividad_e cercania', nx.attribute_assortativity_coefficient(entidades_net,attribute='cercania_ponderado')) \n",
    "print('Asortatividad_e pagerank', nx.attribute_assortativity_coefficient(entidades_net,attribute='pagerank_ponderado')) \n",
    "\n",
    "#Contratistas\n",
    "for n in contratistas_net.nodes():\n",
    "    contratistas_net.node[n]['grado_ponderado']=grado_c[n]\n",
    "    contratistas_net.node[n]['intermediacion_ponderado']=betweenness_c[n]\n",
    "    contratistas_net.node[n]['clustering_ponderado']=clustering_c[n]\n",
    "    contratistas_net.node[n]['cercania_ponderado']=closeness_c[n]\n",
    "    contratistas_net.node[n]['pagerank_ponderado']=pagerank_c[n]\n",
    "print('Asortatividad_c grado', nx.attribute_assortativity_coefficient(contratistas_net,attribute='grado_ponderado'))\n",
    "print('Asortatividad_c intermediacion', nx.attribute_assortativity_coefficient(contratistas_net,attribute='intermediacion_ponderado')) \n",
    "print('Asortatividad_c clustering', nx.attribute_assortativity_coefficient(contratistas_net,attribute='clustering_ponderado')) \n",
    "print('Asortatividad_c cercania', nx.attribute_assortativity_coefficient(contratistas_net,attribute='cercania_ponderado')) \n",
    "print('Asortatividad_c pagerank', nx.attribute_assortativity_coefficient(contratistas_net,attribute='pagerank_ponderado')) \n"
   ]
  },
  {
   "cell_type": "markdown",
   "metadata": {
    "hideCode": false,
    "hidePrompt": false
   },
   "source": [
    "### 5. Bono: Grafique ambas redes en Gephi de tal manera que pueda inferir información relevante acerca de los procesos de contratación nacionales del año 2017."
   ]
  },
  {
   "cell_type": "code",
   "execution_count": null,
   "metadata": {
    "collapsed": true,
    "hideCode": false,
    "hidePrompt": false
   },
   "outputs": [],
   "source": [
    "    #Genera visualización\n",
    "def grafica(grafo):\n",
    "    figure=plt.figure(figsize=(20,20))\n",
    "    pos=nx.shell_layout(grafo)\n",
    "    nx.draw(grafo, pos=pos, node_size= 300, node_color='green',edge_color='blue')\n",
    "    plt.show()\n",
    "\n",
    "grafica(entidades_net)"
   ]
  }
 ],
 "metadata": {
  "hide_code_all_hidden": false,
  "kernelspec": {
   "display_name": "Python 3",
   "language": "python",
   "name": "python3"
  },
  "language_info": {
   "codemirror_mode": {
    "name": "ipython",
    "version": 3
   },
   "file_extension": ".py",
   "mimetype": "text/x-python",
   "name": "python",
   "nbconvert_exporter": "python",
   "pygments_lexer": "ipython3",
   "version": "3.6.1"
  }
 },
 "nbformat": 4,
 "nbformat_minor": 2
}
