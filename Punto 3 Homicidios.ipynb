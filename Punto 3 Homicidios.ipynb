{
 "cells": [
  {
   "cell_type": "markdown",
   "metadata": {
    "hideCode": false,
    "hidePrompt": false
   },
   "source": [
    "## 1. importar los archivos .csv con los dos tipos de nodos y los arcos en Python, crear la red bipartita con la librería networkx"
   ]
  },
  {
   "cell_type": "code",
   "execution_count": 1,
   "metadata": {
    "collapsed": true,
    "hideCode": false,
    "hidePrompt": false
   },
   "outputs": [],
   "source": [
    "#Carga librerías importantes\n",
    "import networkx as nx\n",
    "import numpy as np\n",
    "import matplotlib.pyplot as plt\n",
    "import operator\n",
    "import pip\n",
    "import csv\n",
    "import pickle\n",
    "import operator\n",
    "from networkx.algorithms import bipartite"
   ]
  },
  {
   "cell_type": "code",
   "execution_count": 2,
   "metadata": {
    "hideCode": false,
    "hidePrompt": false
   },
   "outputs": [
    {
     "name": "stdout",
     "output_type": "stream",
     "text": [
      "La red tiene  1072 nodos y  3513 arcos\n"
     ]
    }
   ],
   "source": [
    "#Read Homicides network\n",
    "\n",
    "#Create empty network\n",
    "\n",
    "homicidios_net= nx.Graph()\n",
    "\n",
    "homicidios=csv.reader(open('./Edges_homicides.csv'))\n",
    "#read nodes and edges\n",
    "for row in homicidios:\n",
    "    homicidios_net.add_node(row[0],bipartite=0)\n",
    "    homicidios_net.add_node(row[1],bipartite=1)\n",
    "    if (row[0],row[1]) in homicidios_net.edges():\n",
    "        homicidios_net.edge[row[0]][row[1]]['n_casos']=homicidios_net.edge[row[0]][row[1]]['n_casos']+1\n",
    "    else:\n",
    "        homicidios_net.add_edge(row[0],row[1])\n",
    "        homicidios_net.edge[row[0]][row[1]]['n_casos']=1\n",
    "\n",
    "print('La red tiene ',homicidios_net.number_of_nodes(),'nodos y ',homicidios_net.number_of_edges(),'arcos')"
   ]
  },
  {
   "cell_type": "markdown",
   "metadata": {
    "hideCode": false,
    "hidePrompt": false
   },
   "source": [
    "### 1.A. Realizar la proyección de la red de manera que el patrón del homicidio sea el nodo original y la ciudad el grupo."
   ]
  },
  {
   "cell_type": "code",
   "execution_count": 3,
   "metadata": {
    "hideCode": false,
    "hidePrompt": false
   },
   "outputs": [
    {
     "name": "stdout",
     "output_type": "stream",
     "text": [
      "La red tiene  99 nodos y  1615 arcos\n"
     ]
    }
   ],
   "source": [
    "patrones = set(nodes for nodes,tipo in homicidios_net.nodes(data=True) if tipo['bipartite']==1)\n",
    "patrones_net= bipartite.projected_graph(homicidios_net,patrones)\n",
    "print('La red tiene ',patrones_net.number_of_nodes(),'nodos y ',patrones_net.number_of_edges(),'arcos')\n",
    "\n"
   ]
  },
  {
   "cell_type": "markdown",
   "metadata": {
    "hideCode": false,
    "hidePrompt": false
   },
   "source": [
    "### 1.B. Realizar la proyección de la red. entiéndase la ciudad como nodo original y al patrón del homicidio como grupo."
   ]
  },
  {
   "cell_type": "code",
   "execution_count": 4,
   "metadata": {
    "hideCode": false,
    "hidePrompt": false
   },
   "outputs": [
    {
     "name": "stdout",
     "output_type": "stream",
     "text": [
      "La red tiene  973 nodos y  302529 arcos\n"
     ]
    }
   ],
   "source": [
    "ciudades = set(nodes for nodes,tipo in homicidios_net.nodes(data=True) if tipo['bipartite']==0)\n",
    "ciudades_net= bipartite.projected_graph(homicidios_net,ciudades)\n",
    "print('La red tiene ',ciudades_net.number_of_nodes(),'nodos y ',ciudades_net.number_of_edges(),'arcos')"
   ]
  },
  {
   "cell_type": "markdown",
   "metadata": {
    "hideCode": false,
    "hidePrompt": false
   },
   "source": [
    "### 2.A Encontrar las medidas de centralidad: Grado promedio, coeficiente de clusteringpromedio, diámetro y densidad."
   ]
  },
  {
   "cell_type": "code",
   "execution_count": 5,
   "metadata": {
    "hideCode": false,
    "hidePrompt": false
   },
   "outputs": [
    {
     "name": "stdout",
     "output_type": "stream",
     "text": [
      "El grado promedio de la red de patrones es:  32.62626262626262\n",
      "El grado promedio de conexiones en la red de ciudades es:  621.8478931140802\n",
      "La transitividad promedio en la red de patrones es: 0.817604883795859\n",
      "La transitividad promedio en la red de ciudades es: 0.8940908129605709\n",
      "El diámetro de la red de patrones es: 3\n",
      "El diámetro de la red de ciudades es: 3\n",
      "La densidad de la red de patrones es: 0.33292104720676147\n",
      "La densidad de la red de ciudades es: 0.6397612069074898\n"
     ]
    }
   ],
   "source": [
    "##############################GRADO PROMEDIO ###########################################################\n",
    "#Patrones\n",
    "grado_p=patrones_net.degree()\n",
    "grado_promedio_simple= sum(grado_p.values())/patrones_net.number_of_nodes()\n",
    "print('El grado promedio de la red de patrones es: ', grado_promedio_simple)\n",
    "#Ciudades\n",
    "grado2=ciudades_net.degree()\n",
    "grado2_promedio_simple= sum(grado2.values())/ciudades_net.number_of_nodes()\n",
    "print('El grado promedio de conexiones en la red de ciudades es: ', grado2_promedio_simple)\n",
    "\n",
    "################################CLUSTERING PROMEDIO##########################################################\n",
    "\n",
    "#patrones\n",
    "trans_p=nx. average_clustering(patrones_net)\n",
    "print('La transitividad promedio en la red de patrones es:',trans_p)\n",
    "\n",
    "#ciudades\n",
    "trans_c=nx. average_clustering(ciudades_net)\n",
    "print('La transitividad promedio en la red de ciudades es:',trans_c)\n",
    "##############################DIAMETRO##########################################################\n",
    "#Patrones\n",
    "maximo_conectado_p=max(nx.connected_component_subgraphs(patrones_net),key=len)\n",
    "diametro_p=nx.diameter(maximo_conectado_p)\n",
    "print('El diámetro de la red de patrones es:',diametro_p)\n",
    "#ciudaes\n",
    "maximo_conectado_c=max(nx.connected_component_subgraphs(ciudades_net),key=len)\n",
    "diametro_c=nx.diameter(maximo_conectado_c)\n",
    "print('El diámetro de la red de ciudades es:', diametro_c)\n",
    "##############################DENSIDAD###################################################################\n",
    "\n",
    "#patrones\n",
    "densidad_p= nx.density(patrones_net)\n",
    "print('La densidad de la red de patrones es:', densidad_p)\n",
    "\n",
    "#ciudades\n",
    "densidad_c=nx.density(ciudades_net)\n",
    "print('La densidad de la red de ciudades es:', densidad_c)"
   ]
  },
  {
   "cell_type": "markdown",
   "metadata": {
    "hideCode": false,
    "hidePrompt": false
   },
   "source": [
    "### 2.B. Encontrar la distribución del grado de cada red."
   ]
  },
  {
   "cell_type": "code",
   "execution_count": 7,
   "metadata": {
    "hideCode": false,
    "hidePrompt": false
   },
   "outputs": [
    {
     "data": {
      "image/png": "[encoded data removed]",
      "text/plain": [
       "<matplotlib.figure.Figure at 0x7fc8c7dcd5f8>"
      ]
     },
     "metadata": {},
     "output_type": "display_data"
    },
    {
     "data": {
      "image/png": "[encoded data removed]",
      "text/plain": [
       "<matplotlib.figure.Figure at 0x7fc8c79fbba8>"
      ]
     },
     "metadata": {},
     "output_type": "display_data"
    }
   ],
   "source": [
    "def plot_degree(G,marker):\n",
    "    degrees=list(G.degree().values())\n",
    "    #print(degrees)\n",
    "    bins=np.logspace(0,np.log10(max(degrees)),21)\n",
    "    #print(bins)\n",
    "    (n, x)=np.histogram(degrees,bins)\n",
    "    x=(x[1:] + x[0:-1])/2\n",
    "    plt.loglog(x,n,marker)\n",
    "    plt.xlabel('Degree K')\n",
    "    plt.ylabel('N(k)')\n",
    "    plt.show()\n",
    "#Patrones\n",
    "plot_degree(patrones_net,'o')\n",
    "#Ciudades\n",
    "plot_degree(ciudades_net,'o')"
   ]
  },
  {
   "cell_type": "code",
   "execution_count": null,
   "metadata": {
    "collapsed": true
   },
   "outputs": [],
   "source": []
  }
 ],
 "metadata": {
  "hide_code_all_hidden": false,
  "kernelspec": {
   "display_name": "Python 3",
   "language": "python",
   "name": "python3"
  },
  "language_info": {
   "codemirror_mode": {
    "name": "ipython",
    "version": 3
   },
   "file_extension": ".py",
   "mimetype": "text/x-python",
   "name": "python",
   "nbconvert_exporter": "python",
   "pygments_lexer": "ipython3",
   "version": "3.6.1"
  }
 },
 "nbformat": 4,
 "nbformat_minor": 2
}
